{
 "cells": [
  {
   "cell_type": "code",
   "execution_count": 1,
   "metadata": {
    "collapsed": true
   },
   "outputs": [],
   "source": [
    "import time\n",
    "import sys\n",
    "import math\n",
    "import numpy as np\n",
    "from pyomo.environ import *\n",
    "from pyomo.opt import SolverStatus, TerminationCondition\n",
    "import pyomo.opt\n",
    "import cvxopt as cvx #used by picos\n",
    "import picos as pic #can solve SDP\n",
    "import networkx as nx #manipulate graphs"
   ]
  },
  {
   "cell_type": "code",
   "execution_count": 5,
   "metadata": {
    "collapsed": true
   },
   "outputs": [],
   "source": [
    "GWitn = 10000 #max iteration of randomized rounding of GW\n",
    "MyEpsilon = 1e-6 # tolerance\n",
    "cplexTimeLimit= 100 #maximum seconds of user CPU for CPLEX\n",
    "\n",
    "#Quadratic programming : pyomo\n",
    "def create_maxcut_miqp(G) : \n",
    "    maxcut = ConcreteModel()\n",
    "    # vars = 0 if node in S, 1 if not\n",
    "    maxcut.y = Var(G.nodes(), within = Binary)\n",
    "    \n",
    "    #objective fn\n",
    "    def max_cut(model):\n",
    "        return sum(G[i][j]['weight'] * (model.y[i]+model.y[j] - \\\n",
    "                   2*model.y[i]*model.y[j]) for (i,j) in G.edges())\n",
    "    maxcut.maxcutobj = Objective(rule = max_cut, sense = maximize)\n",
    "    return maxcut\n",
    "\n",
    "#SDP relaxation : picos\n",
    "def create_maxcut_sdp(Laplacian):\n",
    "    n = Laplacian.shape[0]\n",
    "    maxcut = pic.Problem()\n",
    "    X = maxcut.add_variable('X', (n,n), 'symmetric')\n",
    "    maxcut.add_constraint(pic.tools.diag_vect(X) == 1)\n",
    "    maxcut.add_constraint(X >> 0)\n",
    "    L = pic.new_param('L', Laplacian)\n",
    "    # max trace(LX)\n",
    "    maxcut.set_objective('max', L|X)\n",
    "    return maxcut\n",
    "\n",
    "#Matrix factor V of X*    \n",
    "def rank_factor(X, rk):\n",
    "    n = X.shape[0]\n",
    "    evl, evc = np.linalg.eigh(X)\n",
    "    # set neg eigv to 0\n",
    "    evl[evl<0] = 0\n",
    "    if rk < n:\n",
    "        V = np.transpose(evc[:,-rk:])\n",
    "        for k in range(rk):\n",
    "            V[k] *= math.sqrt(evl[-rk-1])\n",
    "    else : \n",
    "        V = np.transpose(evc[::-1])\n",
    "        for k in range(n):\n",
    "            V[k] *= math.sqrt(evl[::-1][k])\n",
    "    return V\n",
    "\n",
    "# Gets closest sdp from X (force eigen > 0)    \n",
    "def closest_sdp(X) : \n",
    "    evl, evc = np.linalg.eigh(X)\n",
    "    evl[evl < 0] = 0\n",
    "    return evc.T.dot(np.diag(evl).dot(evc))\n",
    "    \n",
    "def gw_randomized_rounding(V, objX, L, iterations):\n",
    "    n = V.shape[0]\n",
    "    count = 0\n",
    "    obj = 0\n",
    "    print(\"maxcut(GW/rnd) : impro_ithn objfun\")\n",
    "    while (count<iterations):\n",
    "        # normalized vector on unit sphere\n",
    "        r = np.random.normal(0,1,n)\n",
    "        r /= np.linalg.norm(r) \n",
    "        \n",
    "        # sign of V.r\n",
    "        x = np.sign(np.dot(V,r))\n",
    "        x[x>=0] = 1 # avoid 0\n",
    "        \n",
    "        # obj fn\n",
    "        o = np.dot(x.T, np.dot(L,x))\n",
    "        \n",
    "        if o > obj : \n",
    "            x_cut = x\n",
    "            obj = o\n",
    "            print(str(count)+\"\\t\"+str(obj))\n",
    "        count +=1\n",
    "    return (x_cut, obj)"
   ]
  },
  {
   "cell_type": "code",
   "execution_count": 8,
   "metadata": {
    "collapsed": true
   },
   "outputs": [],
   "source": [
    "G = nx.read_weighted_edgelist('data_chimera.nonweighted/3_0.edgelist', nodetype = int)\n",
    "G = nx.Graph(G)"
   ]
  },
  {
   "cell_type": "code",
   "execution_count": 9,
   "metadata": {
    "collapsed": false
   },
   "outputs": [
    {
     "name": "stdout",
     "output_type": "stream",
     "text": [
      "timelimit=100\n",
      "mipdisplay=2\n",
      "1 of 1 MIP starts provided solutions.\n",
      "MIP start 'm1' defined initial solution with objective 0.0000.\n",
      "MIP Presolve added 384 rows and 192 columns.\n",
      "Reduced MIP has 384 rows, 264 columns, and 768 nonzeros.\n",
      "Reduced MIP has 264 binaries, 0 generals, 0 SOSs, and 0 indicators.\n",
      "Probing time = 0.00 sec. (0.06 ticks)\n",
      "MIP Presolve eliminated 192 rows and 0 columns.\n",
      "Reduced MIP has 192 rows, 264 columns, and 576 nonzeros.\n",
      "Reduced MIP has 264 binaries, 0 generals, 0 SOSs, and 0 indicators.\n",
      "Probing time = 0.00 sec. (0.04 ticks)\n",
      "MIP emphasis: balance optimality and feasibility.\n",
      "MIP search method: dynamic search.\n",
      "Parallel mode: deterministic, using up to 4 threads.\n",
      "Root relaxation solution time = 0.00 sec. (0.49 ticks)\n",
      "\n",
      "        Nodes                                         Cuts/\n",
      "   Node  Left     Objective  IInf  Best Integer    Best Bound    ItCnt     Gap\n",
      "\n",
      "*     0+    0                            0.0000      384.0000              --- \n",
      "*     0     0      integral     0      192.0000      192.0000      159    0.00%\n",
      "Elapsed time = 0.01 sec. (1.41 ticks, tree = 0.00 MB)\n",
      "\n",
      "Root node processing (before b&c):\n",
      "  Real time             =    0.01 sec. (1.41 ticks)\n",
      "Parallel b&c, 4 threads:\n",
      "  Real time             =    0.00 sec. (0.00 ticks)\n",
      "  Sync time (average)   =    0.00 sec.\n",
      "  Wait time (average)   =    0.00 sec.\n",
      "                          ------------\n",
      "Total (root+branch&cut) =    0.01 sec. (1.41 ticks)\n",
      "CPLEX 12.7.0.0: optimal integer solution; objective 192\n",
      "159 MIP simplex iterations\n",
      "0 branch-and-bound nodes\n",
      "No basis.\n",
      "maxcut(GW/rnd) : impro_ithn objfun\n",
      "0\t92.0\n",
      "1\t107.0\n",
      "35\t109.0\n",
      "36\t111.0\n",
      "47\t112.0\n",
      "91\t113.0\n",
      "135\t116.0\n",
      "506\t120.0\n",
      "1489\t124.0\n"
     ]
    }
   ],
   "source": [
    "# MIQP formulation with Pyomo\n",
    "miqp = create_maxcut_miqp(G)\n",
    "solver = pyomo.opt.SolverFactory('cplexamp', solver_io = 'nl')\n",
    "solver.options['timelimit'] = cplexTimeLimit\n",
    "solver.options['mipdisplay'] = 2\n",
    "t0 = time.time()\n",
    "results= solver.solve(miqp, keepfiles = False, tee = True)\n",
    "t1 = time.time()\n",
    "miqpcpu = t1 - t0\n",
    "miqp.solutions.load_from(results)\n",
    "ymiqp = {i:miqp.y[i].value for i in G.nodes()}\n",
    "miqpcut = [i for i, y in ymiqp.iteritems() if y == 1]\n",
    "miqpobj = miqp.maxcutobj()\n",
    "\n",
    "# SDP relaxation\n",
    "L = np.array(1/4.*nx.laplacian_matrix(G).todense())\n",
    "sdp = create_maxcut_sdp(L)\n",
    "t0 = time.time()\n",
    "sdp.solve(verbose = 0)\n",
    "t1 = time.time()\n",
    "sdpcpu = t1 - t0\n",
    "sdpobj = sdp.obj_value()\n",
    "Xsdp = closest_sdp(np.array(sdp.get_valued_variable('X')))\n",
    "sdprank = np.linalg.matrix_rank(Xsdp)\n",
    "sdpfull = Xsdp.shape[0]\n",
    "\n",
    "#t0 = time.time() # because includes SDP time\n",
    "N = len(G.nodes())\n",
    "V = rank_factor(Xsdp, N)\n",
    "(gwcut, gwobj) = gw_randomized_rounding(V, sdp.obj_value(), L, GWitn)\n",
    "t1 = time.time()\n",
    "gwcpu = t1 - t0"
   ]
  },
  {
   "cell_type": "code",
   "execution_count": 23,
   "metadata": {
    "collapsed": false
   },
   "outputs": [
    {
     "name": "stdout",
     "output_type": "stream",
     "text": [
      "[[ 0.49752328  0.25747885 -0.32999714 ...,  0.84941006  0.68702943\n",
      "   0.7053533 ]\n",
      " [ 0.25747885  0.13325077 -0.17078052 ...,  0.43958772  0.3555523\n",
      "   0.36503529]\n",
      " [-0.32999714 -0.17078052  0.21888044 ..., -0.56339653 -0.45569274\n",
      "  -0.46784659]\n",
      " ..., \n",
      " [ 0.84941006  0.43958772 -0.56339653 ...,  1.45017828  1.17294956\n",
      "   1.20423348]\n",
      " [ 0.68702943  0.3555523  -0.45569274 ...,  1.17294956  0.94871831\n",
      "   0.97402171]\n",
      " [ 0.7053533   0.36503529 -0.46784659 ...,  1.20423348  0.97402171  1.        ]]\n",
      "[ 1  5  6  7 11 13 15 18 20 22 23 25 26 30 31 32 33 34 35 44 45 46 47 49 51\n",
      " 52 54 55 56 57 58 68 69 70]\n",
      "[4, 5, 6, 7, 8, 9, 10, 11, 20, 21, 22, 23, 24, 25, 26, 27, 36, 37, 38, 39, 40, 41, 42, 43, 52, 53, 54, 55, 56, 57, 58, 59, 68, 69, 70, 71]\n"
     ]
    }
   ],
   "source": [
    "print(Xsdp)\n",
    "\n",
    "import numpy as np\n",
    "print(np.where(gwcut == 1)[0])\n",
    "\n",
    "print(miqpcut)"
   ]
  },
  {
   "cell_type": "code",
   "execution_count": 35,
   "metadata": {
    "collapsed": true
   },
   "outputs": [],
   "source": [
    "import random\n",
    "def gw_randomized_rounding_improved(V, objX, L, iterations):\n",
    "    n = V.shape[0]\n",
    "    count = 0\n",
    "    obj = 0\n",
    "    print(\"maxcut(GW/rnd) : impro_ithn objfun\")\n",
    "    while (count<iterations):\n",
    "        # normalized vector on unit sphere\n",
    "        r = np.random.normal(0,1,n)\n",
    "        r /= np.linalg.norm(r) \n",
    "\n",
    "        # sign of V.r\n",
    "        x = np.sign(np.dot(V,r))\n",
    "        x[x>=0] = 1 # avoid 0\n",
    "        for i in np.arange(0,len(x),4):\n",
    "            rn = random.randint(0,3)\n",
    "            x[i]=x[i+rn]\n",
    "            x[i+1]=x[i+rn]\n",
    "            x[i+2]=x[i+rn]\n",
    "            x[i+3]=x[i+rn]\n",
    "        \n",
    "        # obj fn\n",
    "        o = np.dot(x.T, np.dot(L,x))\n",
    "        \n",
    "        if o > obj : \n",
    "            x_cut = x\n",
    "            obj = o\n",
    "            print(str(count)+\"\\t\"+str(obj))\n",
    "        count +=1\n",
    "    return (x_cut, obj)"
   ]
  },
  {
   "cell_type": "code",
   "execution_count": 38,
   "metadata": {
    "collapsed": false
   },
   "outputs": [
    {
     "name": "stdout",
     "output_type": "stream",
     "text": [
      "maxcut(GW/rnd) : impro_ithn objfun\n",
      "0\t68.0\n",
      "1\t104.0\n",
      "6\t108.0\n",
      "9\t120.0\n",
      "11\t124.0\n",
      "27\t156.0\n",
      "311\t176.0\n",
      "5257\t180.0\n",
      "192.0\n"
     ]
    }
   ],
   "source": [
    "N = len(G.nodes())\n",
    "V = rank_factor(Xsdp, N)\n",
    "(gwcut2, gwobj2) = gw_randomized_rounding_improved(V, sdp.obj_value(), L, GWitn)\n",
    "\n",
    "print(miqpopt)"
   ]
  },
  {
   "cell_type": "code",
   "execution_count": null,
   "metadata": {
    "collapsed": true
   },
   "outputs": [],
   "source": []
  }
 ],
 "metadata": {
  "anaconda-cloud": {},
  "kernelspec": {
   "display_name": "Python [conda env:py27]",
   "language": "python",
   "name": "conda-env-py27-py"
  },
  "language_info": {
   "codemirror_mode": {
    "name": "ipython",
    "version": 2
   },
   "file_extension": ".py",
   "mimetype": "text/x-python",
   "name": "python",
   "nbconvert_exporter": "python",
   "pygments_lexer": "ipython2",
   "version": "2.7.13"
  }
 },
 "nbformat": 4,
 "nbformat_minor": 2
}
